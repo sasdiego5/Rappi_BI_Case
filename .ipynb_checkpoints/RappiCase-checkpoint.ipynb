{
 "cells": [
  {
   "cell_type": "markdown",
   "id": "74c7ef05-f454-4c00-82f8-2c7b07ba98cb",
   "metadata": {},
   "source": [
    "# Rappi Business Intelligence Challenge\n",
    "## Diego Orejuela\n",
    "\n",
    "The most important step before creating a report is the Exploratory Data Analysis (EDA) of the provided dataset.\n",
    "This document is meant to find insights, perform data cleaning and feature engineering.\n",
    "After reching some basic conclusions, recommendations will be presented on indicators that might be low or could be boosted."
   ]
  },
  {
   "cell_type": "code",
   "execution_count": 1,
   "id": "82176c10-930d-40e1-9aba-2718459a198c",
   "metadata": {},
   "outputs": [],
   "source": [
    "# import basic libraries for EDA\n",
    "import pandas as pd\n",
    "import numpy as np\n",
    "import matplotlib.pyplot as plt\n",
    "\n",
    "pd.set_option('display.max_rows', None)\n",
    "pd.set_option('display.max_columns', None)\n",
    "pd.set_option('display.width', None)\n",
    "pd.set_option('display.max_colwidth', None)"
   ]
  },
  {
   "cell_type": "code",
   "execution_count": 2,
   "id": "8a41f88b",
   "metadata": {},
   "outputs": [
    {
     "name": "stdout",
     "output_type": "stream",
     "text": [
      "<class 'pandas.core.frame.DataFrame'>\n",
      "Int64Index: 12756 entries, 0 to 12755\n",
      "Data columns (total 10 columns):\n",
      " #   Column          Non-Null Count  Dtype  \n",
      "---  ------          --------------  -----  \n",
      " 0   ID              12756 non-null  int64  \n",
      " 1   UPDATE          12756 non-null  object \n",
      " 2   STATUS          7940 non-null   object \n",
      " 3   MOTIVE          2298 non-null   object \n",
      " 4   INTEREST_RATE   1505 non-null   float64\n",
      " 5   AMOUNT          1505 non-null   float64\n",
      " 6   CAT             1505 non-null   float64\n",
      " 7   TXN             3773 non-null   float64\n",
      " 8   CP              1046 non-null   float64\n",
      " 9   DELIVERY_SCORE  1046 non-null   float64\n",
      "dtypes: float64(6), int64(1), object(3)\n",
      "memory usage: 1.1+ MB\n"
     ]
    }
   ],
   "source": [
    "# Load data into a dataframe\n",
    "df = pd.read_csv('BusinessBIBA_Challenge.csv',index_col=0)\n",
    "# print basic information about the dataset\n",
    "df.info()"
   ]
  },
  {
   "cell_type": "code",
   "execution_count": 34,
   "id": "67a38212",
   "metadata": {},
   "outputs": [
    {
     "data": {
      "text/html": [
       "<div>\n",
       "<style scoped>\n",
       "    .dataframe tbody tr th:only-of-type {\n",
       "        vertical-align: middle;\n",
       "    }\n",
       "\n",
       "    .dataframe tbody tr th {\n",
       "        vertical-align: top;\n",
       "    }\n",
       "\n",
       "    .dataframe thead th {\n",
       "        text-align: right;\n",
       "    }\n",
       "</style>\n",
       "<table border=\"1\" class=\"dataframe\">\n",
       "  <thead>\n",
       "    <tr style=\"text-align: right;\">\n",
       "      <th></th>\n",
       "      <th>ID</th>\n",
       "      <th>UPDATE</th>\n",
       "      <th>STATUS</th>\n",
       "      <th>MOTIVE</th>\n",
       "      <th>INTEREST_RATE</th>\n",
       "      <th>AMOUNT</th>\n",
       "      <th>CAT</th>\n",
       "      <th>TXN</th>\n",
       "      <th>CP</th>\n",
       "      <th>DELIVERY_SCORE</th>\n",
       "    </tr>\n",
       "  </thead>\n",
       "  <tbody>\n",
       "    <tr>\n",
       "      <th>0</th>\n",
       "      <td>1</td>\n",
       "      <td>59:50.4</td>\n",
       "      <td>RESPONSE</td>\n",
       "      <td>NaN</td>\n",
       "      <td>NaN</td>\n",
       "      <td>NaN</td>\n",
       "      <td>NaN</td>\n",
       "      <td>NaN</td>\n",
       "      <td>NaN</td>\n",
       "      <td>NaN</td>\n",
       "    </tr>\n",
       "    <tr>\n",
       "      <th>1</th>\n",
       "      <td>1</td>\n",
       "      <td>46:41.4</td>\n",
       "      <td>RISK</td>\n",
       "      <td>NaN</td>\n",
       "      <td>NaN</td>\n",
       "      <td>NaN</td>\n",
       "      <td>NaN</td>\n",
       "      <td>NaN</td>\n",
       "      <td>NaN</td>\n",
       "      <td>NaN</td>\n",
       "    </tr>\n",
       "    <tr>\n",
       "      <th>2</th>\n",
       "      <td>1</td>\n",
       "      <td>14:50.5</td>\n",
       "      <td>APPROVED</td>\n",
       "      <td>DIGITAL</td>\n",
       "      <td>40.0</td>\n",
       "      <td>1300.0</td>\n",
       "      <td>49.0</td>\n",
       "      <td>NaN</td>\n",
       "      <td>NaN</td>\n",
       "      <td>NaN</td>\n",
       "    </tr>\n",
       "    <tr>\n",
       "      <th>3</th>\n",
       "      <td>1</td>\n",
       "      <td>08:23.4</td>\n",
       "      <td>NaN</td>\n",
       "      <td>NaN</td>\n",
       "      <td>NaN</td>\n",
       "      <td>NaN</td>\n",
       "      <td>NaN</td>\n",
       "      <td>434.112066</td>\n",
       "      <td>NaN</td>\n",
       "      <td>NaN</td>\n",
       "    </tr>\n",
       "    <tr>\n",
       "      <th>4</th>\n",
       "      <td>2</td>\n",
       "      <td>00:00.0</td>\n",
       "      <td>NaN</td>\n",
       "      <td>NaN</td>\n",
       "      <td>NaN</td>\n",
       "      <td>NaN</td>\n",
       "      <td>NaN</td>\n",
       "      <td>NaN</td>\n",
       "      <td>NaN</td>\n",
       "      <td>NaN</td>\n",
       "    </tr>\n",
       "    <tr>\n",
       "      <th>5</th>\n",
       "      <td>3</td>\n",
       "      <td>00:00.0</td>\n",
       "      <td>NaN</td>\n",
       "      <td>NaN</td>\n",
       "      <td>NaN</td>\n",
       "      <td>NaN</td>\n",
       "      <td>NaN</td>\n",
       "      <td>NaN</td>\n",
       "      <td>NaN</td>\n",
       "      <td>NaN</td>\n",
       "    </tr>\n",
       "    <tr>\n",
       "      <th>6</th>\n",
       "      <td>4</td>\n",
       "      <td>01:07.0</td>\n",
       "      <td>RESPONSE</td>\n",
       "      <td>NaN</td>\n",
       "      <td>NaN</td>\n",
       "      <td>NaN</td>\n",
       "      <td>NaN</td>\n",
       "      <td>NaN</td>\n",
       "      <td>NaN</td>\n",
       "      <td>NaN</td>\n",
       "    </tr>\n",
       "    <tr>\n",
       "      <th>7</th>\n",
       "      <td>4</td>\n",
       "      <td>27:50.6</td>\n",
       "      <td>RISK</td>\n",
       "      <td>NaN</td>\n",
       "      <td>NaN</td>\n",
       "      <td>NaN</td>\n",
       "      <td>NaN</td>\n",
       "      <td>NaN</td>\n",
       "      <td>NaN</td>\n",
       "      <td>NaN</td>\n",
       "    </tr>\n",
       "    <tr>\n",
       "      <th>8</th>\n",
       "      <td>4</td>\n",
       "      <td>49:54.2</td>\n",
       "      <td>APPROVED</td>\n",
       "      <td>PLASTIC</td>\n",
       "      <td>32.0</td>\n",
       "      <td>10000.0</td>\n",
       "      <td>39.0</td>\n",
       "      <td>NaN</td>\n",
       "      <td>NaN</td>\n",
       "      <td>NaN</td>\n",
       "    </tr>\n",
       "    <tr>\n",
       "      <th>9</th>\n",
       "      <td>4</td>\n",
       "      <td>00:52.7</td>\n",
       "      <td>DELIVERED</td>\n",
       "      <td>NaN</td>\n",
       "      <td>NaN</td>\n",
       "      <td>NaN</td>\n",
       "      <td>NaN</td>\n",
       "      <td>NaN</td>\n",
       "      <td>11560.0</td>\n",
       "      <td>3.0</td>\n",
       "    </tr>\n",
       "    <tr>\n",
       "      <th>10</th>\n",
       "      <td>4</td>\n",
       "      <td>25:47.0</td>\n",
       "      <td>NaN</td>\n",
       "      <td>NaN</td>\n",
       "      <td>NaN</td>\n",
       "      <td>NaN</td>\n",
       "      <td>NaN</td>\n",
       "      <td>360.504173</td>\n",
       "      <td>NaN</td>\n",
       "      <td>NaN</td>\n",
       "    </tr>\n",
       "    <tr>\n",
       "      <th>11</th>\n",
       "      <td>4</td>\n",
       "      <td>22:22.1</td>\n",
       "      <td>NaN</td>\n",
       "      <td>NaN</td>\n",
       "      <td>NaN</td>\n",
       "      <td>NaN</td>\n",
       "      <td>NaN</td>\n",
       "      <td>175.061765</td>\n",
       "      <td>NaN</td>\n",
       "      <td>NaN</td>\n",
       "    </tr>\n",
       "    <tr>\n",
       "      <th>12</th>\n",
       "      <td>4</td>\n",
       "      <td>44:53.3</td>\n",
       "      <td>NaN</td>\n",
       "      <td>NaN</td>\n",
       "      <td>NaN</td>\n",
       "      <td>NaN</td>\n",
       "      <td>NaN</td>\n",
       "      <td>3719.618354</td>\n",
       "      <td>NaN</td>\n",
       "      <td>NaN</td>\n",
       "    </tr>\n",
       "    <tr>\n",
       "      <th>13</th>\n",
       "      <td>4</td>\n",
       "      <td>53:04.3</td>\n",
       "      <td>NaN</td>\n",
       "      <td>NaN</td>\n",
       "      <td>NaN</td>\n",
       "      <td>NaN</td>\n",
       "      <td>NaN</td>\n",
       "      <td>1171.027491</td>\n",
       "      <td>NaN</td>\n",
       "      <td>NaN</td>\n",
       "    </tr>\n",
       "    <tr>\n",
       "      <th>14</th>\n",
       "      <td>5</td>\n",
       "      <td>59:27.9</td>\n",
       "      <td>RESPONSE</td>\n",
       "      <td>NaN</td>\n",
       "      <td>NaN</td>\n",
       "      <td>NaN</td>\n",
       "      <td>NaN</td>\n",
       "      <td>NaN</td>\n",
       "      <td>NaN</td>\n",
       "      <td>NaN</td>\n",
       "    </tr>\n",
       "    <tr>\n",
       "      <th>15</th>\n",
       "      <td>5</td>\n",
       "      <td>53:05.1</td>\n",
       "      <td>RISK</td>\n",
       "      <td>NaN</td>\n",
       "      <td>NaN</td>\n",
       "      <td>NaN</td>\n",
       "      <td>NaN</td>\n",
       "      <td>NaN</td>\n",
       "      <td>NaN</td>\n",
       "      <td>NaN</td>\n",
       "    </tr>\n",
       "    <tr>\n",
       "      <th>16</th>\n",
       "      <td>5</td>\n",
       "      <td>27:30.7</td>\n",
       "      <td>APPROVED</td>\n",
       "      <td>PLASTIC</td>\n",
       "      <td>46.0</td>\n",
       "      <td>15900.0</td>\n",
       "      <td>48.0</td>\n",
       "      <td>NaN</td>\n",
       "      <td>NaN</td>\n",
       "      <td>NaN</td>\n",
       "    </tr>\n",
       "    <tr>\n",
       "      <th>17</th>\n",
       "      <td>5</td>\n",
       "      <td>08:11.0</td>\n",
       "      <td>DELIVERED</td>\n",
       "      <td>NaN</td>\n",
       "      <td>NaN</td>\n",
       "      <td>NaN</td>\n",
       "      <td>NaN</td>\n",
       "      <td>NaN</td>\n",
       "      <td>53100.0</td>\n",
       "      <td>0.0</td>\n",
       "    </tr>\n",
       "    <tr>\n",
       "      <th>18</th>\n",
       "      <td>7</td>\n",
       "      <td>37:24.7</td>\n",
       "      <td>RESPONSE</td>\n",
       "      <td>NaN</td>\n",
       "      <td>NaN</td>\n",
       "      <td>NaN</td>\n",
       "      <td>NaN</td>\n",
       "      <td>NaN</td>\n",
       "      <td>NaN</td>\n",
       "      <td>NaN</td>\n",
       "    </tr>\n",
       "    <tr>\n",
       "      <th>19</th>\n",
       "      <td>7</td>\n",
       "      <td>46:35.8</td>\n",
       "      <td>RISK</td>\n",
       "      <td>NaN</td>\n",
       "      <td>NaN</td>\n",
       "      <td>NaN</td>\n",
       "      <td>NaN</td>\n",
       "      <td>NaN</td>\n",
       "      <td>NaN</td>\n",
       "      <td>NaN</td>\n",
       "    </tr>\n",
       "  </tbody>\n",
       "</table>\n",
       "</div>"
      ],
      "text/plain": [
       "    ID   UPDATE     STATUS   MOTIVE  INTEREST_RATE   AMOUNT   CAT  \\\n",
       "0    1  59:50.4   RESPONSE      NaN            NaN      NaN   NaN   \n",
       "1    1  46:41.4       RISK      NaN            NaN      NaN   NaN   \n",
       "2    1  14:50.5   APPROVED  DIGITAL           40.0   1300.0  49.0   \n",
       "3    1  08:23.4        NaN      NaN            NaN      NaN   NaN   \n",
       "4    2  00:00.0        NaN      NaN            NaN      NaN   NaN   \n",
       "5    3  00:00.0        NaN      NaN            NaN      NaN   NaN   \n",
       "6    4  01:07.0   RESPONSE      NaN            NaN      NaN   NaN   \n",
       "7    4  27:50.6       RISK      NaN            NaN      NaN   NaN   \n",
       "8    4  49:54.2   APPROVED  PLASTIC           32.0  10000.0  39.0   \n",
       "9    4  00:52.7  DELIVERED      NaN            NaN      NaN   NaN   \n",
       "10   4  25:47.0        NaN      NaN            NaN      NaN   NaN   \n",
       "11   4  22:22.1        NaN      NaN            NaN      NaN   NaN   \n",
       "12   4  44:53.3        NaN      NaN            NaN      NaN   NaN   \n",
       "13   4  53:04.3        NaN      NaN            NaN      NaN   NaN   \n",
       "14   5  59:27.9   RESPONSE      NaN            NaN      NaN   NaN   \n",
       "15   5  53:05.1       RISK      NaN            NaN      NaN   NaN   \n",
       "16   5  27:30.7   APPROVED  PLASTIC           46.0  15900.0  48.0   \n",
       "17   5  08:11.0  DELIVERED      NaN            NaN      NaN   NaN   \n",
       "18   7  37:24.7   RESPONSE      NaN            NaN      NaN   NaN   \n",
       "19   7  46:35.8       RISK      NaN            NaN      NaN   NaN   \n",
       "\n",
       "            TXN       CP  DELIVERY_SCORE  \n",
       "0           NaN      NaN             NaN  \n",
       "1           NaN      NaN             NaN  \n",
       "2           NaN      NaN             NaN  \n",
       "3    434.112066      NaN             NaN  \n",
       "4           NaN      NaN             NaN  \n",
       "5           NaN      NaN             NaN  \n",
       "6           NaN      NaN             NaN  \n",
       "7           NaN      NaN             NaN  \n",
       "8           NaN      NaN             NaN  \n",
       "9           NaN  11560.0             3.0  \n",
       "10   360.504173      NaN             NaN  \n",
       "11   175.061765      NaN             NaN  \n",
       "12  3719.618354      NaN             NaN  \n",
       "13  1171.027491      NaN             NaN  \n",
       "14          NaN      NaN             NaN  \n",
       "15          NaN      NaN             NaN  \n",
       "16          NaN      NaN             NaN  \n",
       "17          NaN  53100.0             0.0  \n",
       "18          NaN      NaN             NaN  \n",
       "19          NaN      NaN             NaN  "
      ]
     },
     "execution_count": 34,
     "metadata": {},
     "output_type": "execute_result"
    }
   ],
   "source": [
    "# get familiar with how the dataset looks\n",
    "df.head(20)"
   ]
  },
  {
   "cell_type": "markdown",
   "id": "de1b013b-34d6-46f7-8a88-5cf3afe07fd7",
   "metadata": {},
   "source": [
    "First impressions:\n",
    "* The UPDATE column has an uncommon Date format, which is not useful for the analysis\n",
    "* The STATUS column provides important information about the customer\n",
    "* There is more than one record per customer, the dataset is transaction based, so the ID column cannot be used as a key\n",
    "* The numerical columns have the potential to show interesting insights"
   ]
  },
  {
   "cell_type": "code",
   "execution_count": 35,
   "id": "408e5de7",
   "metadata": {},
   "outputs": [
    {
     "data": {
      "text/plain": [
       "NaN          37.75\n",
       "RESPONSE     18.02\n",
       "RISK         18.02\n",
       "APPROVED     11.80\n",
       "DELIVERED     8.20\n",
       "REJECTED      6.22\n",
       "Name: STATUS, dtype: float64"
      ]
     },
     "execution_count": 35,
     "metadata": {},
     "output_type": "execute_result"
    }
   ],
   "source": [
    "# Check how many null values does the STATUS column have\n",
    "round(df.STATUS.value_counts(normalize=True,dropna=False)*100,2)\n",
    "# df.STATUS.value_counts(dropna=False)"
   ]
  },
  {
   "cell_type": "markdown",
   "id": "86e53695-abed-4219-9a57-44f97158efc6",
   "metadata": {},
   "source": [
    "* Since 37% of the values in the STATUS column are null, we need to create a new updated status column, STATUS_2\n",
    "* We know that a null value is either a transaction or no_reponse\n",
    "* If the value in the TXN column is null, then this record is a no_response"
   ]
  },
  {
   "cell_type": "code",
   "execution_count": 36,
   "id": "4d7877a9",
   "metadata": {},
   "outputs": [
    {
     "data": {
      "text/plain": [
       "TRANSACTION    3773\n",
       "RESPONSE       2298\n",
       "RISK           2298\n",
       "APPROVED       1505\n",
       "DELIVERED      1046\n",
       "NO_RESPONSE    1043\n",
       "REJECTED        793\n",
       "Name: STATUS_2, dtype: int64"
      ]
     },
     "execution_count": 36,
     "metadata": {},
     "output_type": "execute_result"
    }
   ],
   "source": [
    "# Create a copy of initial dataframe so the original remains unchanged\n",
    "df2 = df.copy()\n",
    "# New Status column with two new categories: NO_RESPONSE and TRANSACTION, will have no null values\n",
    "df2['STATUS_2'] = np.where(((df2['TXN'].isnull()) & (df2['STATUS'].isnull())),'NO_RESPONSE',df['STATUS'])\n",
    "df2['STATUS_2'] = df2['STATUS_2'].fillna('TRANSACTION')\n",
    "df2['STATUS_2'].value_counts(dropna=False)"
   ]
  },
  {
   "cell_type": "code",
   "execution_count": 37,
   "id": "1fe818ec",
   "metadata": {},
   "outputs": [
    {
     "data": {
      "text/plain": [
       "TRANSACTION    29.58\n",
       "RESPONSE       18.02\n",
       "RISK           18.02\n",
       "APPROVED       11.80\n",
       "DELIVERED       8.20\n",
       "NO_RESPONSE     8.18\n",
       "REJECTED        6.22\n",
       "Name: STATUS_2, dtype: float64"
      ]
     },
     "execution_count": 37,
     "metadata": {},
     "output_type": "execute_result"
    }
   ],
   "source": [
    "# Check how many records in the dataset contain transaction information\n",
    "txn_perc = round(df2.STATUS_2.value_counts(normalize=True,dropna=False)*100,2)\n",
    "txn_perc"
   ]
  },
  {
   "cell_type": "code",
   "execution_count": 38,
   "id": "7650d688-9587-4c3d-a1e9-cb62b88b7096",
   "metadata": {},
   "outputs": [
    {
     "data": {
      "text/plain": [
       "<AxesSubplot:ylabel='STATUS_2'>"
      ]
     },
     "execution_count": 38,
     "metadata": {},
     "output_type": "execute_result"
    },
    {
     "data": {
      "image/png": "[encoded data removed]",
      "text/plain": [
       "<Figure size 432x288 with 1 Axes>"
      ]
     },
     "metadata": {},
     "output_type": "display_data"
    }
   ],
   "source": [
    "txn_perc.plot(kind='pie')"
   ]
  },
  {
   "cell_type": "code",
   "execution_count": 19,
   "id": "e7605e77",
   "metadata": {},
   "outputs": [
    {
     "data": {
      "text/html": [
       "<div>\n",
       "<style scoped>\n",
       "    .dataframe tbody tr th:only-of-type {\n",
       "        vertical-align: middle;\n",
       "    }\n",
       "\n",
       "    .dataframe tbody tr th {\n",
       "        vertical-align: top;\n",
       "    }\n",
       "\n",
       "    .dataframe thead th {\n",
       "        text-align: right;\n",
       "    }\n",
       "</style>\n",
       "<table border=\"1\" class=\"dataframe\">\n",
       "  <thead>\n",
       "    <tr style=\"text-align: right;\">\n",
       "      <th></th>\n",
       "      <th>ID</th>\n",
       "      <th>UPDATE</th>\n",
       "      <th>STATUS</th>\n",
       "      <th>MOTIVE</th>\n",
       "      <th>INTEREST_RATE</th>\n",
       "      <th>AMOUNT</th>\n",
       "      <th>CAT</th>\n",
       "      <th>TXN</th>\n",
       "      <th>CP</th>\n",
       "      <th>DELIVERY_SCORE</th>\n",
       "      <th>STATUS_2</th>\n",
       "    </tr>\n",
       "  </thead>\n",
       "  <tbody>\n",
       "    <tr>\n",
       "      <th>1033</th>\n",
       "      <td>4969</td>\n",
       "      <td>00:00.0</td>\n",
       "      <td>NaN</td>\n",
       "      <td>NaN</td>\n",
       "      <td>NaN</td>\n",
       "      <td>NaN</td>\n",
       "      <td>NaN</td>\n",
       "      <td>NaN</td>\n",
       "      <td>NaN</td>\n",
       "      <td>NaN</td>\n",
       "      <td>NO_RESPONSE</td>\n",
       "    </tr>\n",
       "    <tr>\n",
       "      <th>1034</th>\n",
       "      <td>4972</td>\n",
       "      <td>00:00.0</td>\n",
       "      <td>NaN</td>\n",
       "      <td>NaN</td>\n",
       "      <td>NaN</td>\n",
       "      <td>NaN</td>\n",
       "      <td>NaN</td>\n",
       "      <td>NaN</td>\n",
       "      <td>NaN</td>\n",
       "      <td>NaN</td>\n",
       "      <td>NO_RESPONSE</td>\n",
       "    </tr>\n",
       "    <tr>\n",
       "      <th>1035</th>\n",
       "      <td>4977</td>\n",
       "      <td>00:00.0</td>\n",
       "      <td>NaN</td>\n",
       "      <td>NaN</td>\n",
       "      <td>NaN</td>\n",
       "      <td>NaN</td>\n",
       "      <td>NaN</td>\n",
       "      <td>NaN</td>\n",
       "      <td>NaN</td>\n",
       "      <td>NaN</td>\n",
       "      <td>NO_RESPONSE</td>\n",
       "    </tr>\n",
       "    <tr>\n",
       "      <th>1036</th>\n",
       "      <td>4978</td>\n",
       "      <td>00:00.0</td>\n",
       "      <td>NaN</td>\n",
       "      <td>NaN</td>\n",
       "      <td>NaN</td>\n",
       "      <td>NaN</td>\n",
       "      <td>NaN</td>\n",
       "      <td>NaN</td>\n",
       "      <td>NaN</td>\n",
       "      <td>NaN</td>\n",
       "      <td>NO_RESPONSE</td>\n",
       "    </tr>\n",
       "    <tr>\n",
       "      <th>1037</th>\n",
       "      <td>4982</td>\n",
       "      <td>00:00.0</td>\n",
       "      <td>NaN</td>\n",
       "      <td>NaN</td>\n",
       "      <td>NaN</td>\n",
       "      <td>NaN</td>\n",
       "      <td>NaN</td>\n",
       "      <td>NaN</td>\n",
       "      <td>NaN</td>\n",
       "      <td>NaN</td>\n",
       "      <td>NO_RESPONSE</td>\n",
       "    </tr>\n",
       "    <tr>\n",
       "      <th>1038</th>\n",
       "      <td>4985</td>\n",
       "      <td>00:00.0</td>\n",
       "      <td>NaN</td>\n",
       "      <td>NaN</td>\n",
       "      <td>NaN</td>\n",
       "      <td>NaN</td>\n",
       "      <td>NaN</td>\n",
       "      <td>NaN</td>\n",
       "      <td>NaN</td>\n",
       "      <td>NaN</td>\n",
       "      <td>NO_RESPONSE</td>\n",
       "    </tr>\n",
       "    <tr>\n",
       "      <th>1039</th>\n",
       "      <td>4992</td>\n",
       "      <td>00:00.0</td>\n",
       "      <td>NaN</td>\n",
       "      <td>NaN</td>\n",
       "      <td>NaN</td>\n",
       "      <td>NaN</td>\n",
       "      <td>NaN</td>\n",
       "      <td>NaN</td>\n",
       "      <td>NaN</td>\n",
       "      <td>NaN</td>\n",
       "      <td>NO_RESPONSE</td>\n",
       "    </tr>\n",
       "    <tr>\n",
       "      <th>1040</th>\n",
       "      <td>4993</td>\n",
       "      <td>00:00.0</td>\n",
       "      <td>NaN</td>\n",
       "      <td>NaN</td>\n",
       "      <td>NaN</td>\n",
       "      <td>NaN</td>\n",
       "      <td>NaN</td>\n",
       "      <td>NaN</td>\n",
       "      <td>NaN</td>\n",
       "      <td>NaN</td>\n",
       "      <td>NO_RESPONSE</td>\n",
       "    </tr>\n",
       "    <tr>\n",
       "      <th>1041</th>\n",
       "      <td>4996</td>\n",
       "      <td>00:00.0</td>\n",
       "      <td>NaN</td>\n",
       "      <td>NaN</td>\n",
       "      <td>NaN</td>\n",
       "      <td>NaN</td>\n",
       "      <td>NaN</td>\n",
       "      <td>NaN</td>\n",
       "      <td>NaN</td>\n",
       "      <td>NaN</td>\n",
       "      <td>NO_RESPONSE</td>\n",
       "    </tr>\n",
       "    <tr>\n",
       "      <th>1042</th>\n",
       "      <td>4997</td>\n",
       "      <td>00:00.0</td>\n",
       "      <td>NaN</td>\n",
       "      <td>NaN</td>\n",
       "      <td>NaN</td>\n",
       "      <td>NaN</td>\n",
       "      <td>NaN</td>\n",
       "      <td>NaN</td>\n",
       "      <td>NaN</td>\n",
       "      <td>NaN</td>\n",
       "      <td>NO_RESPONSE</td>\n",
       "    </tr>\n",
       "  </tbody>\n",
       "</table>\n",
       "</div>"
      ],
      "text/plain": [
       "        ID   UPDATE STATUS MOTIVE  INTEREST_RATE  AMOUNT  CAT  TXN  CP  \\\n",
       "1033  4969  00:00.0    NaN    NaN            NaN     NaN  NaN  NaN NaN   \n",
       "1034  4972  00:00.0    NaN    NaN            NaN     NaN  NaN  NaN NaN   \n",
       "1035  4977  00:00.0    NaN    NaN            NaN     NaN  NaN  NaN NaN   \n",
       "1036  4978  00:00.0    NaN    NaN            NaN     NaN  NaN  NaN NaN   \n",
       "1037  4982  00:00.0    NaN    NaN            NaN     NaN  NaN  NaN NaN   \n",
       "1038  4985  00:00.0    NaN    NaN            NaN     NaN  NaN  NaN NaN   \n",
       "1039  4992  00:00.0    NaN    NaN            NaN     NaN  NaN  NaN NaN   \n",
       "1040  4993  00:00.0    NaN    NaN            NaN     NaN  NaN  NaN NaN   \n",
       "1041  4996  00:00.0    NaN    NaN            NaN     NaN  NaN  NaN NaN   \n",
       "1042  4997  00:00.0    NaN    NaN            NaN     NaN  NaN  NaN NaN   \n",
       "\n",
       "      DELIVERY_SCORE     STATUS_2  \n",
       "1033             NaN  NO_RESPONSE  \n",
       "1034             NaN  NO_RESPONSE  \n",
       "1035             NaN  NO_RESPONSE  \n",
       "1036             NaN  NO_RESPONSE  \n",
       "1037             NaN  NO_RESPONSE  \n",
       "1038             NaN  NO_RESPONSE  \n",
       "1039             NaN  NO_RESPONSE  \n",
       "1040             NaN  NO_RESPONSE  \n",
       "1041             NaN  NO_RESPONSE  \n",
       "1042             NaN  NO_RESPONSE  "
      ]
     },
     "execution_count": 19,
     "metadata": {},
     "output_type": "execute_result"
    }
   ],
   "source": [
    "# Create dataframe of customers who did not respond \n",
    "norspns = df2[df2['STATUS_2']=='NO_RESPONSE'].reset_index(drop=True)\n",
    "norspns.tail(10)"
   ]
  },
  {
   "cell_type": "markdown",
   "id": "70bf218c-38d0-44ee-8416-74f701ce3869",
   "metadata": {},
   "source": [
    "* The dataset contains 8% of customer records that did not respond to the communication,\n",
    "it is safe to delete the records because all these fields are empty and provide no valuable information.\n",
    "\n",
    "* The next step is to calculate the response rate"
   ]
  },
  {
   "cell_type": "code",
   "execution_count": 54,
   "id": "086219be-1718-49cb-80b7-d9ce1f8e5bcf",
   "metadata": {},
   "outputs": [
    {
     "data": {
      "text/html": [
       "<div>\n",
       "<style scoped>\n",
       "    .dataframe tbody tr th:only-of-type {\n",
       "        vertical-align: middle;\n",
       "    }\n",
       "\n",
       "    .dataframe tbody tr th {\n",
       "        vertical-align: top;\n",
       "    }\n",
       "\n",
       "    .dataframe thead th {\n",
       "        text-align: right;\n",
       "    }\n",
       "</style>\n",
       "<table border=\"1\" class=\"dataframe\">\n",
       "  <thead>\n",
       "    <tr style=\"text-align: right;\">\n",
       "      <th></th>\n",
       "      <th>ID</th>\n",
       "      <th>UPDATE</th>\n",
       "      <th>STATUS</th>\n",
       "      <th>MOTIVE</th>\n",
       "      <th>INTEREST_RATE</th>\n",
       "      <th>AMOUNT</th>\n",
       "      <th>CAT</th>\n",
       "      <th>TXN</th>\n",
       "      <th>CP</th>\n",
       "      <th>DELIVERY_SCORE</th>\n",
       "      <th>STATUS_2</th>\n",
       "    </tr>\n",
       "  </thead>\n",
       "  <tbody>\n",
       "    <tr>\n",
       "      <th>0</th>\n",
       "      <td>1</td>\n",
       "      <td>59:50.4</td>\n",
       "      <td>RESPONSE</td>\n",
       "      <td>NaN</td>\n",
       "      <td>NaN</td>\n",
       "      <td>NaN</td>\n",
       "      <td>NaN</td>\n",
       "      <td>NaN</td>\n",
       "      <td>NaN</td>\n",
       "      <td>NaN</td>\n",
       "      <td>RESPONSE</td>\n",
       "    </tr>\n",
       "    <tr>\n",
       "      <th>1</th>\n",
       "      <td>2</td>\n",
       "      <td>00:00.0</td>\n",
       "      <td>NaN</td>\n",
       "      <td>NaN</td>\n",
       "      <td>NaN</td>\n",
       "      <td>NaN</td>\n",
       "      <td>NaN</td>\n",
       "      <td>NaN</td>\n",
       "      <td>NaN</td>\n",
       "      <td>NaN</td>\n",
       "      <td>NO_RESPONSE</td>\n",
       "    </tr>\n",
       "    <tr>\n",
       "      <th>2</th>\n",
       "      <td>3</td>\n",
       "      <td>00:00.0</td>\n",
       "      <td>NaN</td>\n",
       "      <td>NaN</td>\n",
       "      <td>NaN</td>\n",
       "      <td>NaN</td>\n",
       "      <td>NaN</td>\n",
       "      <td>NaN</td>\n",
       "      <td>NaN</td>\n",
       "      <td>NaN</td>\n",
       "      <td>NO_RESPONSE</td>\n",
       "    </tr>\n",
       "    <tr>\n",
       "      <th>3</th>\n",
       "      <td>4</td>\n",
       "      <td>01:07.0</td>\n",
       "      <td>RESPONSE</td>\n",
       "      <td>NaN</td>\n",
       "      <td>NaN</td>\n",
       "      <td>NaN</td>\n",
       "      <td>NaN</td>\n",
       "      <td>NaN</td>\n",
       "      <td>NaN</td>\n",
       "      <td>NaN</td>\n",
       "      <td>RESPONSE</td>\n",
       "    </tr>\n",
       "    <tr>\n",
       "      <th>4</th>\n",
       "      <td>5</td>\n",
       "      <td>59:27.9</td>\n",
       "      <td>RESPONSE</td>\n",
       "      <td>NaN</td>\n",
       "      <td>NaN</td>\n",
       "      <td>NaN</td>\n",
       "      <td>NaN</td>\n",
       "      <td>NaN</td>\n",
       "      <td>NaN</td>\n",
       "      <td>NaN</td>\n",
       "      <td>RESPONSE</td>\n",
       "    </tr>\n",
       "    <tr>\n",
       "      <th>5</th>\n",
       "      <td>7</td>\n",
       "      <td>37:24.7</td>\n",
       "      <td>RESPONSE</td>\n",
       "      <td>NaN</td>\n",
       "      <td>NaN</td>\n",
       "      <td>NaN</td>\n",
       "      <td>NaN</td>\n",
       "      <td>NaN</td>\n",
       "      <td>NaN</td>\n",
       "      <td>NaN</td>\n",
       "      <td>RESPONSE</td>\n",
       "    </tr>\n",
       "    <tr>\n",
       "      <th>6</th>\n",
       "      <td>8</td>\n",
       "      <td>09:03.5</td>\n",
       "      <td>RESPONSE</td>\n",
       "      <td>NaN</td>\n",
       "      <td>NaN</td>\n",
       "      <td>NaN</td>\n",
       "      <td>NaN</td>\n",
       "      <td>NaN</td>\n",
       "      <td>NaN</td>\n",
       "      <td>NaN</td>\n",
       "      <td>RESPONSE</td>\n",
       "    </tr>\n",
       "    <tr>\n",
       "      <th>7</th>\n",
       "      <td>10</td>\n",
       "      <td>00:00.0</td>\n",
       "      <td>NaN</td>\n",
       "      <td>NaN</td>\n",
       "      <td>NaN</td>\n",
       "      <td>NaN</td>\n",
       "      <td>NaN</td>\n",
       "      <td>NaN</td>\n",
       "      <td>NaN</td>\n",
       "      <td>NaN</td>\n",
       "      <td>NO_RESPONSE</td>\n",
       "    </tr>\n",
       "    <tr>\n",
       "      <th>8</th>\n",
       "      <td>11</td>\n",
       "      <td>20:14.9</td>\n",
       "      <td>RESPONSE</td>\n",
       "      <td>NaN</td>\n",
       "      <td>NaN</td>\n",
       "      <td>NaN</td>\n",
       "      <td>NaN</td>\n",
       "      <td>NaN</td>\n",
       "      <td>NaN</td>\n",
       "      <td>NaN</td>\n",
       "      <td>RESPONSE</td>\n",
       "    </tr>\n",
       "    <tr>\n",
       "      <th>9</th>\n",
       "      <td>12</td>\n",
       "      <td>00:00.0</td>\n",
       "      <td>NaN</td>\n",
       "      <td>NaN</td>\n",
       "      <td>NaN</td>\n",
       "      <td>NaN</td>\n",
       "      <td>NaN</td>\n",
       "      <td>NaN</td>\n",
       "      <td>NaN</td>\n",
       "      <td>NaN</td>\n",
       "      <td>NO_RESPONSE</td>\n",
       "    </tr>\n",
       "  </tbody>\n",
       "</table>\n",
       "</div>"
      ],
      "text/plain": [
       "   ID   UPDATE    STATUS MOTIVE  INTEREST_RATE  AMOUNT  CAT  TXN  CP  \\\n",
       "0   1  59:50.4  RESPONSE    NaN            NaN     NaN  NaN  NaN NaN   \n",
       "1   2  00:00.0       NaN    NaN            NaN     NaN  NaN  NaN NaN   \n",
       "2   3  00:00.0       NaN    NaN            NaN     NaN  NaN  NaN NaN   \n",
       "3   4  01:07.0  RESPONSE    NaN            NaN     NaN  NaN  NaN NaN   \n",
       "4   5  59:27.9  RESPONSE    NaN            NaN     NaN  NaN  NaN NaN   \n",
       "5   7  37:24.7  RESPONSE    NaN            NaN     NaN  NaN  NaN NaN   \n",
       "6   8  09:03.5  RESPONSE    NaN            NaN     NaN  NaN  NaN NaN   \n",
       "7  10  00:00.0       NaN    NaN            NaN     NaN  NaN  NaN NaN   \n",
       "8  11  20:14.9  RESPONSE    NaN            NaN     NaN  NaN  NaN NaN   \n",
       "9  12  00:00.0       NaN    NaN            NaN     NaN  NaN  NaN NaN   \n",
       "\n",
       "   DELIVERY_SCORE     STATUS_2  \n",
       "0             NaN     RESPONSE  \n",
       "1             NaN  NO_RESPONSE  \n",
       "2             NaN  NO_RESPONSE  \n",
       "3             NaN     RESPONSE  \n",
       "4             NaN     RESPONSE  \n",
       "5             NaN     RESPONSE  \n",
       "6             NaN     RESPONSE  \n",
       "7             NaN  NO_RESPONSE  \n",
       "8             NaN     RESPONSE  \n",
       "9             NaN  NO_RESPONSE  "
      ]
     },
     "execution_count": 54,
     "metadata": {},
     "output_type": "execute_result"
    }
   ],
   "source": [
    "#dataframe that only contains customer responses or no_responses\n",
    "responses_df=df2[(df2['STATUS_2']=='RESPONSE')|(df2['STATUS_2']=='NO_RESPONSE')].reset_index(drop=True)\n",
    "responses_df.head(10)"
   ]
  },
  {
   "cell_type": "code",
   "execution_count": 72,
   "id": "b3dc275f-6b51-486f-9146-cda566dca2ea",
   "metadata": {},
   "outputs": [
    {
     "data": {
      "text/html": [
       "<div>\n",
       "<style scoped>\n",
       "    .dataframe tbody tr th:only-of-type {\n",
       "        vertical-align: middle;\n",
       "    }\n",
       "\n",
       "    .dataframe tbody tr th {\n",
       "        vertical-align: top;\n",
       "    }\n",
       "\n",
       "    .dataframe thead th {\n",
       "        text-align: right;\n",
       "    }\n",
       "</style>\n",
       "<table border=\"1\" class=\"dataframe\">\n",
       "  <thead>\n",
       "    <tr style=\"text-align: right;\">\n",
       "      <th></th>\n",
       "      <th>ID</th>\n",
       "    </tr>\n",
       "    <tr>\n",
       "      <th>STATUS_2</th>\n",
       "      <th></th>\n",
       "    </tr>\n",
       "  </thead>\n",
       "  <tbody>\n",
       "    <tr>\n",
       "      <th>NO_RESPONSE</th>\n",
       "      <td>1043</td>\n",
       "    </tr>\n",
       "    <tr>\n",
       "      <th>RESPONSE</th>\n",
       "      <td>2298</td>\n",
       "    </tr>\n",
       "  </tbody>\n",
       "</table>\n",
       "</div>"
      ],
      "text/plain": [
       "               ID\n",
       "STATUS_2         \n",
       "NO_RESPONSE  1043\n",
       "RESPONSE     2298"
      ]
     },
     "execution_count": 72,
     "metadata": {},
     "output_type": "execute_result"
    }
   ],
   "source": [
    "# pivot table to look at the customer responses\n",
    "pvt = pd.pivot_table(responses_df,\n",
    "    values='ID',\n",
    "    index=['STATUS_2'],\n",
    "#     columns=['ID'],\n",
    "    aggfunc=len,\n",
    "#     fill_value=None,\n",
    "#     margins=True,\n",
    "#     dropna=True,\n",
    "#     margins_name='Total Sent'\n",
    "#     observed=False\n",
    ")\n",
    "pvt"
   ]
  },
  {
   "cell_type": "code",
   "execution_count": 73,
   "id": "ce929551-4f73-441a-8ae1-82d6bd071d40",
   "metadata": {},
   "outputs": [
    {
     "data": {
      "text/plain": [
       "<AxesSubplot:xlabel='STATUS_2'>"
      ]
     },
     "execution_count": 73,
     "metadata": {},
     "output_type": "execute_result"
    },
    {
     "data": {
      "image/png": "[encoded data removed]",
      "text/plain": [
       "<Figure size 432x288 with 1 Axes>"
      ]
     },
     "metadata": {
      "needs_background": "light"
     },
     "output_type": "display_data"
    }
   ],
   "source": [
    "pvt.plot(kind='bar')"
   ]
  },
  {
   "cell_type": "code",
   "execution_count": 74,
   "id": "98027157-e019-4500-bb78-d71155b1cef5",
   "metadata": {},
   "outputs": [
    {
     "name": "stdout",
     "output_type": "stream",
     "text": [
      "Response Rate:  68.78 %\n"
     ]
    }
   ],
   "source": [
    "# calculate response rate\n",
    "rspns_rate=round(len(responses_df[responses_df['STATUS_2']=='RESPONSE'])/len(responses_df['STATUS_2'])*100,2)\n",
    "print('Response Rate: ',rspns_rate,'%')"
   ]
  },
  {
   "cell_type": "markdown",
   "id": "a0fc9f3c-3eda-46a4-941b-d4fceeebe884",
   "metadata": {},
   "source": [
    "## So far, we have the following insights:\n",
    "* There are 12756 records in this dataset\n",
    "* Records that have been deleted for the analysis is 8%, equivalent to 1042 customers who did not respond\n",
    "* Response Rate: 68.78%\n",
    "    * Formula: Customers that responded / Total number of invitations sent\n",
    "* Each customer can have six types of records: Transaction, Response, Risk, Rejected, Approved or Delivered\n",
    "\n",
    "* The next step is to create a dataframe with customers who responded to the communication\n",
    "\n",
    "After initial exploration, these are some possible aspects to be explored further:\n",
    "*  number of responses and approved vs rejected \n",
    "*  motive for type of cards given to the customer: Plastic or Digital\n",
    "*  average interest rate\n",
    "*  average amount of credit\n",
    "*  delivery score average for customer satisfaction\n",
    "*  average transaction cost related to high or low interest, related to plastic or digital\n",
    "*  average transaction cost related to amount of credit granted, related to plastic or digital"
   ]
  },
  {
   "cell_type": "code",
   "execution_count": 75,
   "id": "3fec1200-822a-4e84-aab7-60aef8e865f2",
   "metadata": {},
   "outputs": [
    {
     "data": {
      "text/html": [
       "<div>\n",
       "<style scoped>\n",
       "    .dataframe tbody tr th:only-of-type {\n",
       "        vertical-align: middle;\n",
       "    }\n",
       "\n",
       "    .dataframe tbody tr th {\n",
       "        vertical-align: top;\n",
       "    }\n",
       "\n",
       "    .dataframe thead th {\n",
       "        text-align: right;\n",
       "    }\n",
       "</style>\n",
       "<table border=\"1\" class=\"dataframe\">\n",
       "  <thead>\n",
       "    <tr style=\"text-align: right;\">\n",
       "      <th></th>\n",
       "      <th>ID</th>\n",
       "      <th>UPDATE</th>\n",
       "      <th>STATUS</th>\n",
       "      <th>MOTIVE</th>\n",
       "      <th>INTEREST_RATE</th>\n",
       "      <th>AMOUNT</th>\n",
       "      <th>CAT</th>\n",
       "      <th>TXN</th>\n",
       "      <th>CP</th>\n",
       "      <th>DELIVERY_SCORE</th>\n",
       "      <th>STATUS_2</th>\n",
       "    </tr>\n",
       "  </thead>\n",
       "  <tbody>\n",
       "    <tr>\n",
       "      <th>11703</th>\n",
       "      <td>4998</td>\n",
       "      <td>58:12.9</td>\n",
       "      <td>NaN</td>\n",
       "      <td>NaN</td>\n",
       "      <td>NaN</td>\n",
       "      <td>NaN</td>\n",
       "      <td>NaN</td>\n",
       "      <td>13.882239</td>\n",
       "      <td>NaN</td>\n",
       "      <td>NaN</td>\n",
       "      <td>TRANSACTION</td>\n",
       "    </tr>\n",
       "    <tr>\n",
       "      <th>11704</th>\n",
       "      <td>4999</td>\n",
       "      <td>57:51.0</td>\n",
       "      <td>RESPONSE</td>\n",
       "      <td>NaN</td>\n",
       "      <td>NaN</td>\n",
       "      <td>NaN</td>\n",
       "      <td>NaN</td>\n",
       "      <td>NaN</td>\n",
       "      <td>NaN</td>\n",
       "      <td>NaN</td>\n",
       "      <td>RESPONSE</td>\n",
       "    </tr>\n",
       "    <tr>\n",
       "      <th>11705</th>\n",
       "      <td>4999</td>\n",
       "      <td>00:51.2</td>\n",
       "      <td>RISK</td>\n",
       "      <td>NaN</td>\n",
       "      <td>NaN</td>\n",
       "      <td>NaN</td>\n",
       "      <td>NaN</td>\n",
       "      <td>NaN</td>\n",
       "      <td>NaN</td>\n",
       "      <td>NaN</td>\n",
       "      <td>RISK</td>\n",
       "    </tr>\n",
       "    <tr>\n",
       "      <th>11706</th>\n",
       "      <td>4999</td>\n",
       "      <td>33:11.0</td>\n",
       "      <td>APPROVED</td>\n",
       "      <td>PLASTIC</td>\n",
       "      <td>48.0</td>\n",
       "      <td>1300.0</td>\n",
       "      <td>49.0</td>\n",
       "      <td>NaN</td>\n",
       "      <td>NaN</td>\n",
       "      <td>NaN</td>\n",
       "      <td>APPROVED</td>\n",
       "    </tr>\n",
       "    <tr>\n",
       "      <th>11707</th>\n",
       "      <td>4999</td>\n",
       "      <td>48:27.1</td>\n",
       "      <td>DELIVERED</td>\n",
       "      <td>NaN</td>\n",
       "      <td>NaN</td>\n",
       "      <td>NaN</td>\n",
       "      <td>NaN</td>\n",
       "      <td>NaN</td>\n",
       "      <td>44100.0</td>\n",
       "      <td>2.0</td>\n",
       "      <td>DELIVERED</td>\n",
       "    </tr>\n",
       "    <tr>\n",
       "      <th>11708</th>\n",
       "      <td>4999</td>\n",
       "      <td>07:42.2</td>\n",
       "      <td>NaN</td>\n",
       "      <td>NaN</td>\n",
       "      <td>NaN</td>\n",
       "      <td>NaN</td>\n",
       "      <td>NaN</td>\n",
       "      <td>31.104808</td>\n",
       "      <td>NaN</td>\n",
       "      <td>NaN</td>\n",
       "      <td>TRANSACTION</td>\n",
       "    </tr>\n",
       "    <tr>\n",
       "      <th>11709</th>\n",
       "      <td>4999</td>\n",
       "      <td>40:29.5</td>\n",
       "      <td>NaN</td>\n",
       "      <td>NaN</td>\n",
       "      <td>NaN</td>\n",
       "      <td>NaN</td>\n",
       "      <td>NaN</td>\n",
       "      <td>74.732791</td>\n",
       "      <td>NaN</td>\n",
       "      <td>NaN</td>\n",
       "      <td>TRANSACTION</td>\n",
       "    </tr>\n",
       "    <tr>\n",
       "      <th>11710</th>\n",
       "      <td>4999</td>\n",
       "      <td>22:31.7</td>\n",
       "      <td>NaN</td>\n",
       "      <td>NaN</td>\n",
       "      <td>NaN</td>\n",
       "      <td>NaN</td>\n",
       "      <td>NaN</td>\n",
       "      <td>35774.172720</td>\n",
       "      <td>NaN</td>\n",
       "      <td>NaN</td>\n",
       "      <td>TRANSACTION</td>\n",
       "    </tr>\n",
       "    <tr>\n",
       "      <th>11711</th>\n",
       "      <td>4999</td>\n",
       "      <td>27:19.8</td>\n",
       "      <td>NaN</td>\n",
       "      <td>NaN</td>\n",
       "      <td>NaN</td>\n",
       "      <td>NaN</td>\n",
       "      <td>NaN</td>\n",
       "      <td>79.866598</td>\n",
       "      <td>NaN</td>\n",
       "      <td>NaN</td>\n",
       "      <td>TRANSACTION</td>\n",
       "    </tr>\n",
       "    <tr>\n",
       "      <th>11712</th>\n",
       "      <td>4999</td>\n",
       "      <td>43:01.8</td>\n",
       "      <td>NaN</td>\n",
       "      <td>NaN</td>\n",
       "      <td>NaN</td>\n",
       "      <td>NaN</td>\n",
       "      <td>NaN</td>\n",
       "      <td>124.606009</td>\n",
       "      <td>NaN</td>\n",
       "      <td>NaN</td>\n",
       "      <td>TRANSACTION</td>\n",
       "    </tr>\n",
       "  </tbody>\n",
       "</table>\n",
       "</div>"
      ],
      "text/plain": [
       "         ID   UPDATE     STATUS   MOTIVE  INTEREST_RATE  AMOUNT   CAT  \\\n",
       "11703  4998  58:12.9        NaN      NaN            NaN     NaN   NaN   \n",
       "11704  4999  57:51.0   RESPONSE      NaN            NaN     NaN   NaN   \n",
       "11705  4999  00:51.2       RISK      NaN            NaN     NaN   NaN   \n",
       "11706  4999  33:11.0   APPROVED  PLASTIC           48.0  1300.0  49.0   \n",
       "11707  4999  48:27.1  DELIVERED      NaN            NaN     NaN   NaN   \n",
       "11708  4999  07:42.2        NaN      NaN            NaN     NaN   NaN   \n",
       "11709  4999  40:29.5        NaN      NaN            NaN     NaN   NaN   \n",
       "11710  4999  22:31.7        NaN      NaN            NaN     NaN   NaN   \n",
       "11711  4999  27:19.8        NaN      NaN            NaN     NaN   NaN   \n",
       "11712  4999  43:01.8        NaN      NaN            NaN     NaN   NaN   \n",
       "\n",
       "                TXN       CP  DELIVERY_SCORE     STATUS_2  \n",
       "11703     13.882239      NaN             NaN  TRANSACTION  \n",
       "11704           NaN      NaN             NaN     RESPONSE  \n",
       "11705           NaN      NaN             NaN         RISK  \n",
       "11706           NaN      NaN             NaN     APPROVED  \n",
       "11707           NaN  44100.0             2.0    DELIVERED  \n",
       "11708     31.104808      NaN             NaN  TRANSACTION  \n",
       "11709     74.732791      NaN             NaN  TRANSACTION  \n",
       "11710  35774.172720      NaN             NaN  TRANSACTION  \n",
       "11711     79.866598      NaN             NaN  TRANSACTION  \n",
       "11712    124.606009      NaN             NaN  TRANSACTION  "
      ]
     },
     "execution_count": 75,
     "metadata": {},
     "output_type": "execute_result"
    }
   ],
   "source": [
    "# new dataframe with only records of customers that responded\n",
    "df_resp=df2[df2['STATUS_2']!='NO_RESPONSE'].reset_index(drop=True)\n",
    "df_resp.tail(10)"
   ]
  },
  {
   "cell_type": "code",
   "execution_count": 76,
   "id": "e795c581-51c5-4745-b3ae-cad047a21daa",
   "metadata": {},
   "outputs": [
    {
     "data": {
      "text/plain": [
       "TRANSACTION    32.21\n",
       "RESPONSE       19.62\n",
       "RISK           19.62\n",
       "APPROVED       12.85\n",
       "DELIVERED       8.93\n",
       "REJECTED        6.77\n",
       "Name: STATUS_2, dtype: float64"
      ]
     },
     "execution_count": 76,
     "metadata": {},
     "output_type": "execute_result"
    }
   ],
   "source": [
    "# Check percentage for each type of STATUS \n",
    "stts_perc = round(df_resp.STATUS_2.value_counts(normalize=True,dropna=False)*100,2)\n",
    "stts_perc"
   ]
  },
  {
   "cell_type": "code",
   "execution_count": 77,
   "id": "06966441-f08d-4f8e-b9df-e83d27e36205",
   "metadata": {},
   "outputs": [],
   "source": [
    "# df_resp.STATUS_2.value_counts(dropna=False)"
   ]
  },
  {
   "cell_type": "code",
   "execution_count": 82,
   "id": "5e0e1fbd",
   "metadata": {},
   "outputs": [
    {
     "name": "stdout",
     "output_type": "stream",
     "text": [
      "Number of applications received:  2298\n"
     ]
    }
   ],
   "source": [
    "# dataframe that contains only APPROVED or REJECTED STATUS\n",
    "aprVSrej=df_resp[(df_resp['STATUS']=='APPROVED') | (df_resp['STATUS']=='REJECTED')].reset_index(drop=True)\n",
    "print(\"Number of applications received: \",len(aprVSrej))"
   ]
  },
  {
   "cell_type": "code",
   "execution_count": 83,
   "id": "41209258-df54-4e12-8d4f-718d927a33cb",
   "metadata": {},
   "outputs": [
    {
     "name": "stdout",
     "output_type": "stream",
     "text": [
      "APPROVED    65.49\n",
      "REJECTED    34.51\n",
      "Name: STATUS, dtype: float64\n"
     ]
    },
    {
     "data": {
      "image/png": "[encoded data removed]",
      "text/plain": [
       "<Figure size 432x288 with 1 Axes>"
      ]
     },
     "metadata": {
      "needs_background": "light"
     },
     "output_type": "display_data"
    }
   ],
   "source": [
    "round(aprVSrej['STATUS'].value_counts(normalize=True)*100,2).plot(kind='bar')\n",
    "print(round(aprVSrej['STATUS'].value_counts(normalize=True)*100,2))"
   ]
  },
  {
   "cell_type": "markdown",
   "id": "78be9d53-7f7d-4015-8b55-e18581d6366c",
   "metadata": {},
   "source": [
    "* There are 19.62% (2298) of the records that give information about Acceptance or Rejection\n",
    "* The number of responses, approved vs rejected: 65% approved vs 35% rejected\n",
    "* Based on this metric, about 1/3 of the customers are rejected.\n",
    "* It seems that the requirements to approve a customer are somewhat rigorous\n",
    "* In order to obtain more customers the criteria of the risk evaluation could be modified to accept more customers\n",
    "\n",
    "## Now, we can dive furhter into some metrics about Accepted and Rejected customers"
   ]
  },
  {
   "cell_type": "code",
   "execution_count": null,
   "id": "7da409b7",
   "metadata": {},
   "outputs": [],
   "source": [
    "# pivot table to look at the different MOTIVE for Accepted and Rejected customers\n",
    "pvt1 = pd.pivot_table(aprVSrej,\n",
    "    values='ID',\n",
    "    index=['STATUS','MOTIVE'],\n",
    "#     columns=['ID'],\n",
    "    aggfunc=len,\n",
    "#     fill_value=None,\n",
    "#     margins=False,\n",
    "#     dropna=True,\n",
    "#     margins_name='All',\n",
    "#     observed=False\n",
    ")\n",
    "pvt1"
   ]
  },
  {
   "cell_type": "code",
   "execution_count": null,
   "id": "ffd01045",
   "metadata": {},
   "outputs": [],
   "source": [
    "pvt1.plot(kind='bar')"
   ]
  },
  {
   "cell_type": "code",
   "execution_count": null,
   "id": "7b163569",
   "metadata": {},
   "outputs": [],
   "source": [
    "# DataFrame that only contains APPROVED STATUS\n",
    "apprvdCust = aprVSrej[aprVSrej['STATUS']=='APPROVED'].reset_index(drop=True)\n",
    "len(apprvdCust)"
   ]
  },
  {
   "cell_type": "code",
   "execution_count": null,
   "id": "fcd8fe7a",
   "metadata": {},
   "outputs": [],
   "source": [
    "plsVSdig = round(apprvdCust['MOTIVE'].value_counts(normalize=True)*100,2)\n",
    "plsVSdig "
   ]
  },
  {
   "cell_type": "code",
   "execution_count": null,
   "id": "997564ea",
   "metadata": {},
   "outputs": [],
   "source": [
    "plsVSdig.plot(kind='bar')"
   ]
  },
  {
   "cell_type": "markdown",
   "id": "753bef71-e1ad-4e9b-a4a3-8e0e790ad798",
   "metadata": {},
   "source": [
    "## Approved vs Rejected Customers:\n",
    "* The four categories of Rejected Cusotmers are evenly distributed\n",
    "* There are two categories for Approved customers: Digital and Plastic\n",
    "* Clearly, more Plastic cards are given to Approved customers: 69.5%\n",
    "* On the other hand, 30.5% of customers were given Digital Cards"
   ]
  },
  {
   "cell_type": "code",
   "execution_count": null,
   "id": "228035f8",
   "metadata": {},
   "outputs": [],
   "source": [
    "# Pivot table to compare Plastic vs Digital cards on average of Numerical Columns for Approved Customers\n",
    "pvt2 = pd.pivot_table(apprvdCust,\n",
    "    values=['INTEREST_RATE','AMOUNT','CAT'],\n",
    "    index=['STATUS','MOTIVE'],\n",
    "#     columns=['ID'],\n",
    "    aggfunc=np.mean,\n",
    "#     fill_value=None,\n",
    "#     margins=False,\n",
    "#     dropna=True,\n",
    "#     margins_name='All',\n",
    "#     observed=False\n",
    ")\n",
    "pvt2.round(2)"
   ]
  },
  {
   "cell_type": "code",
   "execution_count": null,
   "id": "6027a1d1",
   "metadata": {},
   "outputs": [],
   "source": [
    "pvt3 = pd.pivot_table(apprvdCust,\n",
    "    values=['INTEREST_RATE'],\n",
    "    index=['MOTIVE'],\n",
    "#     columns=['ID'],\n",
    "    aggfunc='mean',\n",
    "#     fill_value=None,\n",
    "#     margins=False,\n",
    "#     dropna=True,\n",
    "#     margins_name='All',\n",
    "#     observed=False\n",
    ")\n",
    "print(round(pvt3,2))\n",
    "pvt3.plot(kind='bar')"
   ]
  },
  {
   "cell_type": "code",
   "execution_count": null,
   "id": "719425d6",
   "metadata": {},
   "outputs": [],
   "source": [
    "pvt4 = pd.pivot_table(apprvdCust,\n",
    "    values=['AMOUNT'],\n",
    "    index=['MOTIVE'],\n",
    "#     columns=['ID'],\n",
    "    aggfunc=np.mean,\n",
    "#     fill_value=None,\n",
    "#     margins=False,\n",
    "#     dropna=True,\n",
    "#     margins_name='All',\n",
    "#     observed=False\n",
    ")\n",
    "print(round(pvt4,2))\n",
    "pvt4.plot(kind='bar')"
   ]
  },
  {
   "cell_type": "code",
   "execution_count": null,
   "id": "ba40cbdb",
   "metadata": {},
   "outputs": [],
   "source": [
    "pvt5 = pd.pivot_table(apprvdCust,\n",
    "    values=['CAT'],\n",
    "    index=['MOTIVE'],\n",
    "#     columns=['ID'],\n",
    "    aggfunc=np.mean,\n",
    "#     fill_value=None,\n",
    "#     margins=False,\n",
    "#     dropna=True,\n",
    "#     margins_name='All',\n",
    "#     observed=False\n",
    ")\n",
    "print(round(pvt5,2))\n",
    "pvt5.plot(kind='bar')"
   ]
  },
  {
   "cell_type": "markdown",
   "id": "a5a074e1-9b41-4e7d-b7a4-59e7086851a2",
   "metadata": {},
   "source": [
    "* There is no significant difference between customers that were given digital or plastic cards when it comes to:\n",
    "   average AMOUNT, average INTEREST_RATE, and average CAT. Therefore, average is not useful in this case\n",
    "* Next, we can check the distribution of the values for AMOUNT, CAT, and INTEREST_RATE"
   ]
  },
  {
   "cell_type": "code",
   "execution_count": null,
   "id": "6775b7f4-83ef-4d33-9f4d-630c537bd8de",
   "metadata": {},
   "outputs": [],
   "source": [
    "# plot histogram with 10 bins\n",
    "apprvdCust.hist(column='INTEREST_RATE', bins=10, grid=True)"
   ]
  },
  {
   "cell_type": "code",
   "execution_count": null,
   "id": "bd5efb61-5e25-4604-9faa-759eb2c7ed0a",
   "metadata": {},
   "outputs": [],
   "source": [
    "# plot histogram with 10 bins\n",
    "apprvdCust.hist(column='CAT', bins=10, grid=True)"
   ]
  },
  {
   "cell_type": "code",
   "execution_count": null,
   "id": "4f729790",
   "metadata": {},
   "outputs": [],
   "source": [
    "apprvdCust.hist(column='AMOUNT', bins=20, grid=True)"
   ]
  },
  {
   "cell_type": "code",
   "execution_count": null,
   "id": "c61fbf50",
   "metadata": {},
   "outputs": [],
   "source": [
    "# check for customers that were given an AMOUNT of zero in their card, could be an error in the data\n",
    "zeroAmnt= apprvdCust[apprvdCust['AMOUNT']<1]\n",
    "print('Number of customers that were given 0 as an Amount: ',len(zeroAmnt))"
   ]
  },
  {
   "cell_type": "code",
   "execution_count": null,
   "id": "62b4981c",
   "metadata": {},
   "outputs": [],
   "source": [
    "# df_g_0 = df5[df5['AMOUNT']>0]\n",
    "# df_g_0['AMOUNT'].value_counts(normalize=True,bins=5)*100"
   ]
  },
  {
   "cell_type": "code",
   "execution_count": null,
   "id": "5046f71f",
   "metadata": {},
   "outputs": [],
   "source": [
    "round(apprvdCust['AMOUNT'].value_counts(normalize=True,bins=5)*100,2)"
   ]
  },
  {
   "cell_type": "code",
   "execution_count": null,
   "id": "a8d8b25d-db1e-4811-8bac-4beedab0edef",
   "metadata": {},
   "outputs": [],
   "source": [
    "appr_lt20 = apprvdCust[apprvdCust['AMOUNT']<=20000]\n",
    "round(appr_lt20['AMOUNT'].value_counts(normalize=True,bins=5)*100,2)"
   ]
  },
  {
   "cell_type": "markdown",
   "id": "ef221cc2-c893-474c-90d3-0b35dafb5f7a",
   "metadata": {},
   "source": [
    "## Insights found so far:\n",
    "* INTEREST_RATE column seems to be evenly distributed betweeen 30 and 50, average is valid\n",
    "* CAT column seems to be evenly distributed betweeen 30 and 50, average is valid\n",
    "* AMOUNT column seems to be mostly in between 0 and 21740, equivalent to 77% of customers.\n",
    "* Also, 18% of the customers were given an AMOUNT between 21000 and 43000\n",
    "* Therefore, the average is not a valid metric to describe it\n",
    "* Among the customers that were given an AMOUNT below 21000: \n",
    "    * 35% have an amount below 4000\n",
    "    * 22% have an amount between 4000 and 8000\n",
    "    * 18% have an amount between 8000 and 12000\n",
    "    * 12% have an amount between 12000 and 16000\n",
    "    * 11% have an amount between 16000 and 20000\n",
    "* There are 11 customers that received an AMOUNT = 0, not a significant number that affects the metric\n",
    "* The customers given 0 for AMOUNT could possibly be an error because these customers have made Transactions with their card.\n",
    "\n",
    "\n",
    "## Next Steps:\n",
    "* Check transaction differences based on digital or plastic\n",
    "* We need to create a CARD_TYPE column to label each transaction"
   ]
  },
  {
   "cell_type": "code",
   "execution_count": null,
   "id": "c191ba3f",
   "metadata": {},
   "outputs": [],
   "source": [
    "# New dataframe with transactions and digital or plastic card type\n",
    "trnsct_df = df_resp[(df_resp['TXN'].notnull()) | (df_resp['MOTIVE']=='PLASTIC') | (df_resp['MOTIVE']=='DIGITAL')].reset_index(drop=True)\n",
    "# trnsct_df.tail(15)"
   ]
  },
  {
   "cell_type": "code",
   "execution_count": null,
   "id": "fe87acf5",
   "metadata": {},
   "outputs": [],
   "source": [
    "# In order to create new column, first extract the card type given to each customer\n",
    "gpb = trnsct_df.groupby('ID')['MOTIVE'].apply(list).reset_index()\n",
    "gpb['MOTIVE'] = gpb['MOTIVE'].apply(pd.Series)\n",
    "gpb.tail(10)"
   ]
  },
  {
   "cell_type": "code",
   "execution_count": null,
   "id": "fb6ad02b",
   "metadata": {},
   "outputs": [],
   "source": [
    "# Next, merge both dataframes based on customer ID with new column that\n",
    "newdf = df_resp.merge(gpb,on='ID',how='left')\n",
    "newdf = newdf.rename(columns={'MOTIVE_x':'MOTIVE','MOTIVE_y':'CARD_TP'})\n",
    "newdf.tail(20)"
   ]
  },
  {
   "cell_type": "code",
   "execution_count": null,
   "id": "0a978d6d-ec58-4068-beab-47f0e2c1d3eb",
   "metadata": {},
   "outputs": [],
   "source": [
    "#dataframe of transactions only, a transaction is recognized where TXN column is not null\n",
    "trnsct_df2 = newdf[(newdf['TXN'].notnull())].reset_index(drop=True)\n",
    "trnsct_df2.head()"
   ]
  },
  {
   "cell_type": "code",
   "execution_count": null,
   "id": "7137348f",
   "metadata": {},
   "outputs": [],
   "source": [
    "# pivot table to check number of transactions with digital vs plastic cards\n",
    "pvt6 = pd.pivot_table(trnsct_df2,\n",
    "    values='TXN',\n",
    "    index=['CARD_TP'],\n",
    "#     columns=['ID'],\n",
    "    aggfunc=len,\n",
    "#     fill_value=None,\n",
    "#     margins=False,\n",
    "#     dropna=True,\n",
    "#     margins_name='All',\n",
    "#     observed=False\n",
    ")\n",
    "# print(pvt6)\n",
    "print(round(trnsct_df2['CARD_TP'].value_counts(normalize=True)*100,2))\n",
    "pvt6.plot(kind='bar')"
   ]
  },
  {
   "cell_type": "code",
   "execution_count": null,
   "id": "1d56ff6e",
   "metadata": {},
   "outputs": [],
   "source": [
    "# df that contains digital transactions only \n",
    "digTdf = trnsct_df2[(trnsct_df2['CARD_TP']=='DIGITAL')].reset_index(drop=True)\n",
    "digTdf.tail()"
   ]
  },
  {
   "cell_type": "code",
   "execution_count": null,
   "id": "720142a3",
   "metadata": {},
   "outputs": [],
   "source": [
    "print('Number of Digital Transactions:',len(digTdf))\n",
    "print('Average expense per Digital Card Transaction:',round(digTdf['TXN'].mean(),2))"
   ]
  },
  {
   "cell_type": "code",
   "execution_count": null,
   "id": "8e15bbf8",
   "metadata": {},
   "outputs": [],
   "source": [
    "digTdf['TXN'].plot(kind='line')"
   ]
  },
  {
   "cell_type": "code",
   "execution_count": null,
   "id": "228f7211-c3c7-4899-9564-a1ea2d9f7f38",
   "metadata": {},
   "outputs": [],
   "source": [
    "digTdf['TXN'].plot(kind='hist',grid=True)"
   ]
  },
  {
   "cell_type": "code",
   "execution_count": null,
   "id": "909bf8f5-b411-40f6-a84b-2bb63435ab44",
   "metadata": {},
   "outputs": [],
   "source": [
    "round(digTdf['TXN'].value_counts(normalize=True,bins=10)*100,2)"
   ]
  },
  {
   "cell_type": "code",
   "execution_count": null,
   "id": "1e260486-dab4-4d98-9a65-b3abc7834ed8",
   "metadata": {},
   "outputs": [],
   "source": [
    "# create dataframe that contains most common transaction value range\n",
    "digTdf_lt6k = digTdf[digTdf['TXN']<= 11000]\n",
    "round(digTdf_lt6k['TXN'].value_counts(normalize=True,bins=10)*100,2)"
   ]
  },
  {
   "cell_type": "code",
   "execution_count": null,
   "id": "2e0fd106-1f62-4884-8dec-0587d84645cd",
   "metadata": {},
   "outputs": [],
   "source": [
    "# Top 5 highes transactions\n",
    "digTdf.nlargest(5,'TXN')"
   ]
  },
  {
   "cell_type": "code",
   "execution_count": null,
   "id": "d8e1ba52-8bf2-4b3d-848c-f2171d186d7d",
   "metadata": {},
   "outputs": [],
   "source": [
    "# create dataframe that contains most common transaction value range\n",
    "digTdf_gt100 = digTdf[digTdf['TXN']>= 50000]\n",
    "# round(digTdf_gt100 ['TXN'].value_counts(normalize=True,bins=20)*100,2)\n",
    "len(digTdf_gt100)"
   ]
  },
  {
   "cell_type": "markdown",
   "id": "61148a66-39f7-4b8a-b15f-c070d6e40970",
   "metadata": {},
   "source": [
    "## Digital Card Transactions insights\n",
    "* Digital card transactions represent 31% of the transactions with an average transaction amount of 2022\n",
    "* The highest transaction is 110631, followed by a few amounts in between 68000 and 98000 range\n",
    "* It was also observed that 96% of Digital transactions are below 11000\n",
    "* Furhtermore, in the transactions below 11000, 77% are under 1045"
   ]
  },
  {
   "cell_type": "code",
   "execution_count": null,
   "id": "7ca0edb4",
   "metadata": {},
   "outputs": [],
   "source": [
    "# df that contains plastic card transactions\n",
    "plsTdf = trnsct_df2[(trnsct_df2['CARD_TP']=='PLASTIC')].reset_index(drop=True)\n",
    "plsTdf .tail()"
   ]
  },
  {
   "cell_type": "code",
   "execution_count": null,
   "id": "d5d00ff6",
   "metadata": {},
   "outputs": [],
   "source": [
    "print('Number of Plastic Card Transactions:',len(plsTdf))\n",
    "print('Average expense per Plastic Card Transaction:',round(plsTdf['TXN'].mean(),2))"
   ]
  },
  {
   "cell_type": "code",
   "execution_count": null,
   "id": "745f9ae8",
   "metadata": {},
   "outputs": [],
   "source": [
    "plsTdf['TXN'].plot(kind='line')"
   ]
  },
  {
   "cell_type": "code",
   "execution_count": null,
   "id": "982e167b-9c3e-45e7-9caf-227b511811fc",
   "metadata": {},
   "outputs": [],
   "source": [
    "plsTdf['TXN'].plot(kind='hist',grid=True)"
   ]
  },
  {
   "cell_type": "code",
   "execution_count": null,
   "id": "261e713a-bf26-42e5-899c-5a7c56b9880f",
   "metadata": {},
   "outputs": [],
   "source": [
    "# percentage of value ranges partitioned into 20 bins\n",
    "round(plsTdf['TXN'].value_counts(normalize=True,bins=20)*100,2)"
   ]
  },
  {
   "cell_type": "code",
   "execution_count": null,
   "id": "ea24ba9e-0249-4c51-9c8b-1eb23bef1279",
   "metadata": {},
   "outputs": [],
   "source": [
    "# create dataframe that contains most common transaction value range\n",
    "plsTdf_lt6k = plsTdf[plsTdf['TXN']<= 20000]\n",
    "round(plsTdf_lt6k['TXN'].value_counts(normalize=True,bins=20)*100,2)"
   ]
  },
  {
   "cell_type": "code",
   "execution_count": null,
   "id": "e67b0d28-8497-4920-877b-64ad2aef355f",
   "metadata": {},
   "outputs": [],
   "source": [
    "# Top 5 highest transactions\n",
    "plsTdf.nlargest(5,'TXN')"
   ]
  },
  {
   "cell_type": "code",
   "execution_count": null,
   "id": "cc7b8067-32d7-4b28-844b-9089ca1fb876",
   "metadata": {},
   "outputs": [],
   "source": [
    "plsTdf_gt100 = plsTdf[plsTdf['TXN']>= 50000]\n",
    "# round(plsTdf_gt100['TXN'].value_counts(normalize=True,bins=5)*100,2)\n",
    "len(plsTdf_gt100)"
   ]
  },
  {
   "cell_type": "markdown",
   "id": "2ffc859d-a23c-48cb-98b4-748b85dd8d0f",
   "metadata": {},
   "source": [
    "## Plastic Card Transactions insights\n",
    "* Plastic card transactions represent 69% of the transactions with an average amount of 2004\n",
    "* As we can see in the graphs, Digital card transactions contain one outlier with a transaction of 412498, followed by a few amounts in the 100000 range\n",
    "* It was also observed that 98% digital transactions are below 20000\n",
    "* Furhtermore, in the transactions below 20000, 75% are under 990"
   ]
  },
  {
   "cell_type": "markdown",
   "id": "3e67b2f1-37f4-40f8-b318-0010a13518f9",
   "metadata": {},
   "source": [
    "## Transactions amounts insights\n",
    "* It was discovered earlier that the most common AMOUNT of credit granted is below 21740\n",
    "* It was also found that more than half of the customers are allowed an amount below 8000\n",
    "* The two facts mentioned above show why most of the transactions for both plastic and digital cards are below 1000\n",
    "* Therefore, customers tend to keep their transactions to a considerable cost below their granted credit amount\n",
    "* Customers with digital cards tend to spend lower amounts than"
   ]
  },
  {
   "cell_type": "code",
   "execution_count": null,
   "id": "fa18c6e0-1670-4b11-b24b-ceda48ac5d17",
   "metadata": {},
   "outputs": [],
   "source": [
    "# One Last metric to check is the Delivery_Score for customer satisfaction purposes\n",
    "delvScr_df=df_resp[df_resp['DELIVERY_SCORE'].notnull()].reset_index(drop=True)\n",
    "round(delvScr_df['DELIVERY_SCORE'].value_counts(normalize=True)*100,2)"
   ]
  },
  {
   "cell_type": "code",
   "execution_count": null,
   "id": "9a28c294-4e32-427b-b71a-d83233d382fe",
   "metadata": {},
   "outputs": [],
   "source": [
    "delvScr_df['DELIVERY_SCORE'].plot(kind='hist',grid=True)"
   ]
  },
  {
   "cell_type": "markdown",
   "id": "e4d5ae9d-a659-4ef4-a20d-025a11e27270",
   "metadata": {},
   "source": [
    "## Delivery Score Insights\n",
    "* It seems like customers are not very satisfied with the delivery of the card\n",
    "* Only 9% of customers rated the delivery with 4 or higher, although only 1% rated it with a 5\n",
    "* More than half of the customers rated the delivery with a score of 1 or 2\n",
    "* Most of the scores, 82%, are between 1 and 3\n",
    "* The delivery service of the card is can be bettwe according to the customer satisfaction scores"
   ]
  },
  {
   "cell_type": "markdown",
   "id": "4cf70c90-a875-4735-ba90-70b48966ecbe",
   "metadata": {},
   "source": [
    "## Next steps for further analysis and reporting:\n",
    "\n",
    "* Analyze expenditure patterns by looking at transactions related to interest_rate and amount granted to the customer\n",
    "* Possibly use the digital vs plastic card transactions related to interest_rate and amount granted to the customer\n",
    "* Although AMOUNT is the column with most variability, we could dive into transaction amount or number of transactions based on amount of credit granted"
   ]
  },
  {
   "cell_type": "code",
   "execution_count": null,
   "id": "01be6b3b",
   "metadata": {},
   "outputs": [],
   "source": []
  }
 ],
 "metadata": {
  "kernelspec": {
   "display_name": "Python 3",
   "language": "python",
   "name": "python3"
  },
  "language_info": {
   "codemirror_mode": {
    "name": "ipython",
    "version": 3
   },
   "file_extension": ".py",
   "mimetype": "text/x-python",
   "name": "python",
   "nbconvert_exporter": "python",
   "pygments_lexer": "ipython3",
   "version": "3.8.8"
  }
 },
 "nbformat": 4,
 "nbformat_minor": 5
}
